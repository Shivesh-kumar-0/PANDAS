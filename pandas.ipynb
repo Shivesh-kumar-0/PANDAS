{
 "cells": [
  {
   "cell_type": "markdown",
   "id": "045f4327",
   "metadata": {},
   "source": [
    "# PANDAS "
   ]
  },
  {
   "cell_type": "code",
   "execution_count": 2,
   "id": "40b83a2a",
   "metadata": {},
   "outputs": [],
   "source": [
    "import pandas as pd"
   ]
  },
  {
   "cell_type": "code",
   "execution_count": 6,
   "id": "81337004",
   "metadata": {},
   "outputs": [],
   "source": [
    "series = pd.Series([1,2,3,4,5])"
   ]
  },
  {
   "cell_type": "code",
   "execution_count": 7,
   "id": "42851962",
   "metadata": {},
   "outputs": [
    {
     "data": {
      "text/plain": [
       "0    1\n",
       "1    2\n",
       "2    3\n",
       "3    4\n",
       "4    5\n",
       "dtype: int64"
      ]
     },
     "execution_count": 7,
     "metadata": {},
     "output_type": "execute_result"
    }
   ],
   "source": [
    "series"
   ]
  },
  {
   "cell_type": "markdown",
   "id": "58793b6a",
   "metadata": {},
   "source": [
    "# Inserting array in series"
   ]
  },
  {
   "cell_type": "code",
   "execution_count": 13,
   "id": "a326eab5",
   "metadata": {},
   "outputs": [],
   "source": [
    "import numpy as np"
   ]
  },
  {
   "cell_type": "code",
   "execution_count": 46,
   "id": "a14a2ad9",
   "metadata": {},
   "outputs": [],
   "source": [
    "array = np.array([1,2,3,4,5,6,7,8,9])"
   ]
  },
  {
   "cell_type": "code",
   "execution_count": 47,
   "id": "25c00f97",
   "metadata": {},
   "outputs": [
    {
     "data": {
      "text/plain": [
       "array([1, 2, 3, 4, 5, 6, 7, 8, 9])"
      ]
     },
     "execution_count": 47,
     "metadata": {},
     "output_type": "execute_result"
    }
   ],
   "source": [
    "array"
   ]
  },
  {
   "cell_type": "code",
   "execution_count": 48,
   "id": "f9fd943a",
   "metadata": {},
   "outputs": [
    {
     "data": {
      "text/plain": [
       "0    1\n",
       "1    2\n",
       "2    3\n",
       "3    4\n",
       "4    5\n",
       "5    6\n",
       "6    7\n",
       "7    8\n",
       "8    9\n",
       "dtype: int32"
      ]
     },
     "execution_count": 48,
     "metadata": {},
     "output_type": "execute_result"
    }
   ],
   "source": [
    "pd.Series(array)"
   ]
  },
  {
   "cell_type": "markdown",
   "id": "ce5a1207",
   "metadata": {},
   "source": [
    "# inserting index into series"
   ]
  },
  {
   "cell_type": "code",
   "execution_count": 49,
   "id": "052f7b5a",
   "metadata": {},
   "outputs": [],
   "source": [
    "ind = pd.Series(array, index = (\"one\",\"two\",\"three\",\"four\",\"five\",\"six\",\"seven\",\"eight\",\"nine\"))"
   ]
  },
  {
   "cell_type": "code",
   "execution_count": 50,
   "id": "f335a05a",
   "metadata": {},
   "outputs": [
    {
     "data": {
      "text/plain": [
       "one      1\n",
       "two      2\n",
       "three    3\n",
       "four     4\n",
       "five     5\n",
       "six      6\n",
       "seven    7\n",
       "eight    8\n",
       "nine     9\n",
       "dtype: int32"
      ]
     },
     "execution_count": 50,
     "metadata": {},
     "output_type": "execute_result"
    }
   ],
   "source": [
    "ind"
   ]
  },
  {
   "cell_type": "code",
   "execution_count": 51,
   "id": "7d640c79",
   "metadata": {},
   "outputs": [
    {
     "data": {
      "text/plain": [
       "1"
      ]
     },
     "execution_count": 51,
     "metadata": {},
     "output_type": "execute_result"
    }
   ],
   "source": [
    "ind['one']"
   ]
  },
  {
   "cell_type": "code",
   "execution_count": 55,
   "id": "b13ec2a5",
   "metadata": {},
   "outputs": [],
   "source": [
    "exp = pd.Series([1,2,3,4,5],index = (\"one\",\"two\",\"three\",\"four\",\"five\"))"
   ]
  },
  {
   "cell_type": "code",
   "execution_count": 56,
   "id": "41514c0d",
   "metadata": {},
   "outputs": [
    {
     "data": {
      "text/plain": [
       "one      1\n",
       "two      2\n",
       "three    3\n",
       "four     4\n",
       "five     5\n",
       "dtype: int64"
      ]
     },
     "execution_count": 56,
     "metadata": {},
     "output_type": "execute_result"
    }
   ],
   "source": [
    "exp"
   ]
  },
  {
   "cell_type": "markdown",
   "id": "5dce0a79",
   "metadata": {},
   "source": [
    "# now we are having two series...exp and ind"
   ]
  },
  {
   "cell_type": "markdown",
   "id": "b275ecb7",
   "metadata": {},
   "source": [
    "# simple maths of addition on both series"
   ]
  },
  {
   "cell_type": "code",
   "execution_count": 57,
   "id": "c8038549",
   "metadata": {},
   "outputs": [
    {
     "data": {
      "text/plain": [
       "eight     NaN\n",
       "five     10.0\n",
       "four      8.0\n",
       "nine      NaN\n",
       "one       2.0\n",
       "seven     NaN\n",
       "six       NaN\n",
       "three     6.0\n",
       "two       4.0\n",
       "dtype: float64"
      ]
     },
     "execution_count": 57,
     "metadata": {},
     "output_type": "execute_result"
    }
   ],
   "source": [
    "exp+ind"
   ]
  },
  {
   "cell_type": "code",
   "execution_count": 58,
   "id": "8c05f5bb",
   "metadata": {},
   "outputs": [],
   "source": [
    "#nan number generated because index was not matching out"
   ]
  },
  {
   "cell_type": "code",
   "execution_count": 83,
   "id": "6119db2b",
   "metadata": {},
   "outputs": [
    {
     "data": {
      "text/html": [
       "<div>\n",
       "<style scoped>\n",
       "    .dataframe tbody tr th:only-of-type {\n",
       "        vertical-align: middle;\n",
       "    }\n",
       "\n",
       "    .dataframe tbody tr th {\n",
       "        vertical-align: top;\n",
       "    }\n",
       "\n",
       "    .dataframe thead th {\n",
       "        text-align: right;\n",
       "    }\n",
       "</style>\n",
       "<table border=\"1\" class=\"dataframe\">\n",
       "  <thead>\n",
       "    <tr style=\"text-align: right;\">\n",
       "      <th></th>\n",
       "      <th>0</th>\n",
       "      <th>1</th>\n",
       "    </tr>\n",
       "  </thead>\n",
       "  <tbody>\n",
       "    <tr>\n",
       "      <th>one</th>\n",
       "      <td>1.0</td>\n",
       "      <td>1</td>\n",
       "    </tr>\n",
       "    <tr>\n",
       "      <th>two</th>\n",
       "      <td>2.0</td>\n",
       "      <td>2</td>\n",
       "    </tr>\n",
       "    <tr>\n",
       "      <th>three</th>\n",
       "      <td>3.0</td>\n",
       "      <td>3</td>\n",
       "    </tr>\n",
       "    <tr>\n",
       "      <th>four</th>\n",
       "      <td>4.0</td>\n",
       "      <td>4</td>\n",
       "    </tr>\n",
       "    <tr>\n",
       "      <th>five</th>\n",
       "      <td>5.0</td>\n",
       "      <td>5</td>\n",
       "    </tr>\n",
       "    <tr>\n",
       "      <th>six</th>\n",
       "      <td>NaN</td>\n",
       "      <td>6</td>\n",
       "    </tr>\n",
       "    <tr>\n",
       "      <th>seven</th>\n",
       "      <td>NaN</td>\n",
       "      <td>7</td>\n",
       "    </tr>\n",
       "    <tr>\n",
       "      <th>eight</th>\n",
       "      <td>NaN</td>\n",
       "      <td>8</td>\n",
       "    </tr>\n",
       "    <tr>\n",
       "      <th>nine</th>\n",
       "      <td>NaN</td>\n",
       "      <td>9</td>\n",
       "    </tr>\n",
       "  </tbody>\n",
       "</table>\n",
       "</div>"
      ],
      "text/plain": [
       "         0  1\n",
       "one    1.0  1\n",
       "two    2.0  2\n",
       "three  3.0  3\n",
       "four   4.0  4\n",
       "five   5.0  5\n",
       "six    NaN  6\n",
       "seven  NaN  7\n",
       "eight  NaN  8\n",
       "nine   NaN  9"
      ]
     },
     "execution_count": 83,
     "metadata": {},
     "output_type": "execute_result"
    }
   ],
   "source": [
    "pd.concat([exp,ind],axis=1)"
   ]
  },
  {
   "cell_type": "code",
   "execution_count": 65,
   "id": "b2368b7e",
   "metadata": {},
   "outputs": [
    {
     "data": {
      "text/plain": [
       "one      1\n",
       "two      2\n",
       "three    3\n",
       "four     4\n",
       "five     5\n",
       "one      1\n",
       "two      2\n",
       "three    3\n",
       "four     4\n",
       "five     5\n",
       "six      6\n",
       "seven    7\n",
       "eight    8\n",
       "nine     9\n",
       "dtype: int64"
      ]
     },
     "execution_count": 65,
     "metadata": {},
     "output_type": "execute_result"
    }
   ],
   "source": [
    "pd.concat([exp,ind])"
   ]
  },
  {
   "cell_type": "markdown",
   "id": "56d4f6d2",
   "metadata": {},
   "source": [
    "# DATAFRAME CREATION"
   ]
  },
  {
   "cell_type": "code",
   "execution_count": 77,
   "id": "31e79deb",
   "metadata": {},
   "outputs": [],
   "source": [
    "df1 = pd.DataFrame(np.random.rand(5,5))#here we created dataframe using numpy random numbers"
   ]
  },
  {
   "cell_type": "code",
   "execution_count": 78,
   "id": "e85d61cd",
   "metadata": {},
   "outputs": [
    {
     "data": {
      "text/html": [
       "<div>\n",
       "<style scoped>\n",
       "    .dataframe tbody tr th:only-of-type {\n",
       "        vertical-align: middle;\n",
       "    }\n",
       "\n",
       "    .dataframe tbody tr th {\n",
       "        vertical-align: top;\n",
       "    }\n",
       "\n",
       "    .dataframe thead th {\n",
       "        text-align: right;\n",
       "    }\n",
       "</style>\n",
       "<table border=\"1\" class=\"dataframe\">\n",
       "  <thead>\n",
       "    <tr style=\"text-align: right;\">\n",
       "      <th></th>\n",
       "      <th>0</th>\n",
       "      <th>1</th>\n",
       "      <th>2</th>\n",
       "      <th>3</th>\n",
       "      <th>4</th>\n",
       "    </tr>\n",
       "  </thead>\n",
       "  <tbody>\n",
       "    <tr>\n",
       "      <th>0</th>\n",
       "      <td>0.182469</td>\n",
       "      <td>0.320200</td>\n",
       "      <td>0.371576</td>\n",
       "      <td>0.840374</td>\n",
       "      <td>0.554736</td>\n",
       "    </tr>\n",
       "    <tr>\n",
       "      <th>1</th>\n",
       "      <td>0.818659</td>\n",
       "      <td>0.217008</td>\n",
       "      <td>0.753545</td>\n",
       "      <td>0.159630</td>\n",
       "      <td>0.123517</td>\n",
       "    </tr>\n",
       "    <tr>\n",
       "      <th>2</th>\n",
       "      <td>0.058443</td>\n",
       "      <td>0.951232</td>\n",
       "      <td>0.852316</td>\n",
       "      <td>0.706507</td>\n",
       "      <td>0.641665</td>\n",
       "    </tr>\n",
       "    <tr>\n",
       "      <th>3</th>\n",
       "      <td>0.293392</td>\n",
       "      <td>0.445356</td>\n",
       "      <td>0.460223</td>\n",
       "      <td>0.269861</td>\n",
       "      <td>0.262624</td>\n",
       "    </tr>\n",
       "    <tr>\n",
       "      <th>4</th>\n",
       "      <td>0.194180</td>\n",
       "      <td>0.781211</td>\n",
       "      <td>0.673131</td>\n",
       "      <td>0.161167</td>\n",
       "      <td>0.648876</td>\n",
       "    </tr>\n",
       "  </tbody>\n",
       "</table>\n",
       "</div>"
      ],
      "text/plain": [
       "          0         1         2         3         4\n",
       "0  0.182469  0.320200  0.371576  0.840374  0.554736\n",
       "1  0.818659  0.217008  0.753545  0.159630  0.123517\n",
       "2  0.058443  0.951232  0.852316  0.706507  0.641665\n",
       "3  0.293392  0.445356  0.460223  0.269861  0.262624\n",
       "4  0.194180  0.781211  0.673131  0.161167  0.648876"
      ]
     },
     "execution_count": 78,
     "metadata": {},
     "output_type": "execute_result"
    }
   ],
   "source": [
    "df1"
   ]
  },
  {
   "cell_type": "markdown",
   "id": "1ac5111e",
   "metadata": {},
   "source": [
    "# indexing and giving column names"
   ]
  },
  {
   "cell_type": "code",
   "execution_count": 88,
   "id": "071cb51f",
   "metadata": {},
   "outputs": [],
   "source": [
    "df1 = pd.DataFrame(np.random.rand(5,5),index=[\"one\",\"two\",\"three\",\"four\",\"five\"],\n",
    "                                       columns=[\"first\",\"second\",\"third\",\"fourth\",\"fifth\"])"
   ]
  },
  {
   "cell_type": "code",
   "execution_count": 89,
   "id": "aa91ebea",
   "metadata": {},
   "outputs": [
    {
     "data": {
      "text/html": [
       "<div>\n",
       "<style scoped>\n",
       "    .dataframe tbody tr th:only-of-type {\n",
       "        vertical-align: middle;\n",
       "    }\n",
       "\n",
       "    .dataframe tbody tr th {\n",
       "        vertical-align: top;\n",
       "    }\n",
       "\n",
       "    .dataframe thead th {\n",
       "        text-align: right;\n",
       "    }\n",
       "</style>\n",
       "<table border=\"1\" class=\"dataframe\">\n",
       "  <thead>\n",
       "    <tr style=\"text-align: right;\">\n",
       "      <th></th>\n",
       "      <th>first</th>\n",
       "      <th>second</th>\n",
       "      <th>third</th>\n",
       "      <th>fourth</th>\n",
       "      <th>fifth</th>\n",
       "    </tr>\n",
       "  </thead>\n",
       "  <tbody>\n",
       "    <tr>\n",
       "      <th>one</th>\n",
       "      <td>0.053503</td>\n",
       "      <td>0.106235</td>\n",
       "      <td>0.915407</td>\n",
       "      <td>0.880849</td>\n",
       "      <td>0.246622</td>\n",
       "    </tr>\n",
       "    <tr>\n",
       "      <th>two</th>\n",
       "      <td>0.190750</td>\n",
       "      <td>0.828302</td>\n",
       "      <td>0.217411</td>\n",
       "      <td>0.468420</td>\n",
       "      <td>0.515375</td>\n",
       "    </tr>\n",
       "    <tr>\n",
       "      <th>three</th>\n",
       "      <td>0.993074</td>\n",
       "      <td>0.518722</td>\n",
       "      <td>0.626595</td>\n",
       "      <td>0.239213</td>\n",
       "      <td>0.869956</td>\n",
       "    </tr>\n",
       "    <tr>\n",
       "      <th>four</th>\n",
       "      <td>0.380941</td>\n",
       "      <td>0.427077</td>\n",
       "      <td>0.891345</td>\n",
       "      <td>0.781259</td>\n",
       "      <td>0.957811</td>\n",
       "    </tr>\n",
       "    <tr>\n",
       "      <th>five</th>\n",
       "      <td>0.282786</td>\n",
       "      <td>0.775472</td>\n",
       "      <td>0.969148</td>\n",
       "      <td>0.548966</td>\n",
       "      <td>0.203651</td>\n",
       "    </tr>\n",
       "  </tbody>\n",
       "</table>\n",
       "</div>"
      ],
      "text/plain": [
       "          first    second     third    fourth     fifth\n",
       "one    0.053503  0.106235  0.915407  0.880849  0.246622\n",
       "two    0.190750  0.828302  0.217411  0.468420  0.515375\n",
       "three  0.993074  0.518722  0.626595  0.239213  0.869956\n",
       "four   0.380941  0.427077  0.891345  0.781259  0.957811\n",
       "five   0.282786  0.775472  0.969148  0.548966  0.203651"
      ]
     },
     "execution_count": 89,
     "metadata": {},
     "output_type": "execute_result"
    }
   ],
   "source": [
    "df1"
   ]
  },
  {
   "cell_type": "markdown",
   "id": "2644c7dd",
   "metadata": {},
   "source": [
    "# Access"
   ]
  },
  {
   "cell_type": "code",
   "execution_count": 107,
   "id": "b4b458c6",
   "metadata": {},
   "outputs": [
    {
     "data": {
      "text/plain": [
       "one      0.053503\n",
       "two      0.190750\n",
       "three    0.993074\n",
       "four     0.380941\n",
       "five     0.282786\n",
       "Name: first, dtype: float64"
      ]
     },
     "execution_count": 107,
     "metadata": {},
     "output_type": "execute_result"
    }
   ],
   "source": [
    "df1['first']"
   ]
  },
  {
   "cell_type": "code",
   "execution_count": 108,
   "id": "d10d3fd2",
   "metadata": {},
   "outputs": [
    {
     "data": {
      "text/html": [
       "<div>\n",
       "<style scoped>\n",
       "    .dataframe tbody tr th:only-of-type {\n",
       "        vertical-align: middle;\n",
       "    }\n",
       "\n",
       "    .dataframe tbody tr th {\n",
       "        vertical-align: top;\n",
       "    }\n",
       "\n",
       "    .dataframe thead th {\n",
       "        text-align: right;\n",
       "    }\n",
       "</style>\n",
       "<table border=\"1\" class=\"dataframe\">\n",
       "  <thead>\n",
       "    <tr style=\"text-align: right;\">\n",
       "      <th></th>\n",
       "      <th>first</th>\n",
       "      <th>second</th>\n",
       "      <th>third</th>\n",
       "    </tr>\n",
       "  </thead>\n",
       "  <tbody>\n",
       "    <tr>\n",
       "      <th>one</th>\n",
       "      <td>0.053503</td>\n",
       "      <td>0.106235</td>\n",
       "      <td>0.915407</td>\n",
       "    </tr>\n",
       "    <tr>\n",
       "      <th>two</th>\n",
       "      <td>0.190750</td>\n",
       "      <td>0.828302</td>\n",
       "      <td>0.217411</td>\n",
       "    </tr>\n",
       "    <tr>\n",
       "      <th>three</th>\n",
       "      <td>0.993074</td>\n",
       "      <td>0.518722</td>\n",
       "      <td>0.626595</td>\n",
       "    </tr>\n",
       "    <tr>\n",
       "      <th>four</th>\n",
       "      <td>0.380941</td>\n",
       "      <td>0.427077</td>\n",
       "      <td>0.891345</td>\n",
       "    </tr>\n",
       "    <tr>\n",
       "      <th>five</th>\n",
       "      <td>0.282786</td>\n",
       "      <td>0.775472</td>\n",
       "      <td>0.969148</td>\n",
       "    </tr>\n",
       "  </tbody>\n",
       "</table>\n",
       "</div>"
      ],
      "text/plain": [
       "          first    second     third\n",
       "one    0.053503  0.106235  0.915407\n",
       "two    0.190750  0.828302  0.217411\n",
       "three  0.993074  0.518722  0.626595\n",
       "four   0.380941  0.427077  0.891345\n",
       "five   0.282786  0.775472  0.969148"
      ]
     },
     "execution_count": 108,
     "metadata": {},
     "output_type": "execute_result"
    }
   ],
   "source": [
    "df1[['first','second','third']]"
   ]
  },
  {
   "cell_type": "code",
   "execution_count": 113,
   "id": "efb06604",
   "metadata": {},
   "outputs": [
    {
     "data": {
      "text/plain": [
       "first     0.053503\n",
       "second    0.106235\n",
       "third     0.915407\n",
       "fourth    0.880849\n",
       "fifth     0.246622\n",
       "Name: one, dtype: float64"
      ]
     },
     "execution_count": 113,
     "metadata": {},
     "output_type": "execute_result"
    }
   ],
   "source": [
    "df1.loc['one']"
   ]
  },
  {
   "cell_type": "code",
   "execution_count": 114,
   "id": "1111027d",
   "metadata": {},
   "outputs": [
    {
     "data": {
      "text/plain": [
       "first     0.190750\n",
       "second    0.828302\n",
       "third     0.217411\n",
       "fourth    0.468420\n",
       "fifth     0.515375\n",
       "Name: two, dtype: float64"
      ]
     },
     "execution_count": 114,
     "metadata": {},
     "output_type": "execute_result"
    }
   ],
   "source": [
    "df1.iloc[1]"
   ]
  },
  {
   "cell_type": "markdown",
   "id": "01be1f00",
   "metadata": {},
   "source": [
    "# drop column"
   ]
  },
  {
   "cell_type": "code",
   "execution_count": 117,
   "id": "7754737e",
   "metadata": {},
   "outputs": [
    {
     "data": {
      "text/html": [
       "<div>\n",
       "<style scoped>\n",
       "    .dataframe tbody tr th:only-of-type {\n",
       "        vertical-align: middle;\n",
       "    }\n",
       "\n",
       "    .dataframe tbody tr th {\n",
       "        vertical-align: top;\n",
       "    }\n",
       "\n",
       "    .dataframe thead th {\n",
       "        text-align: right;\n",
       "    }\n",
       "</style>\n",
       "<table border=\"1\" class=\"dataframe\">\n",
       "  <thead>\n",
       "    <tr style=\"text-align: right;\">\n",
       "      <th></th>\n",
       "      <th>first</th>\n",
       "      <th>second</th>\n",
       "      <th>third</th>\n",
       "      <th>fourth</th>\n",
       "    </tr>\n",
       "  </thead>\n",
       "  <tbody>\n",
       "    <tr>\n",
       "      <th>one</th>\n",
       "      <td>0.053503</td>\n",
       "      <td>0.106235</td>\n",
       "      <td>0.915407</td>\n",
       "      <td>0.880849</td>\n",
       "    </tr>\n",
       "    <tr>\n",
       "      <th>two</th>\n",
       "      <td>0.190750</td>\n",
       "      <td>0.828302</td>\n",
       "      <td>0.217411</td>\n",
       "      <td>0.468420</td>\n",
       "    </tr>\n",
       "    <tr>\n",
       "      <th>three</th>\n",
       "      <td>0.993074</td>\n",
       "      <td>0.518722</td>\n",
       "      <td>0.626595</td>\n",
       "      <td>0.239213</td>\n",
       "    </tr>\n",
       "    <tr>\n",
       "      <th>four</th>\n",
       "      <td>0.380941</td>\n",
       "      <td>0.427077</td>\n",
       "      <td>0.891345</td>\n",
       "      <td>0.781259</td>\n",
       "    </tr>\n",
       "    <tr>\n",
       "      <th>five</th>\n",
       "      <td>0.282786</td>\n",
       "      <td>0.775472</td>\n",
       "      <td>0.969148</td>\n",
       "      <td>0.548966</td>\n",
       "    </tr>\n",
       "  </tbody>\n",
       "</table>\n",
       "</div>"
      ],
      "text/plain": [
       "          first    second     third    fourth\n",
       "one    0.053503  0.106235  0.915407  0.880849\n",
       "two    0.190750  0.828302  0.217411  0.468420\n",
       "three  0.993074  0.518722  0.626595  0.239213\n",
       "four   0.380941  0.427077  0.891345  0.781259\n",
       "five   0.282786  0.775472  0.969148  0.548966"
      ]
     },
     "execution_count": 117,
     "metadata": {},
     "output_type": "execute_result"
    }
   ],
   "source": [
    "df1.drop('fifth',axis=1)"
   ]
  },
  {
   "cell_type": "code",
   "execution_count": 120,
   "id": "0329a67b",
   "metadata": {},
   "outputs": [
    {
     "data": {
      "text/html": [
       "<div>\n",
       "<style scoped>\n",
       "    .dataframe tbody tr th:only-of-type {\n",
       "        vertical-align: middle;\n",
       "    }\n",
       "\n",
       "    .dataframe tbody tr th {\n",
       "        vertical-align: top;\n",
       "    }\n",
       "\n",
       "    .dataframe thead th {\n",
       "        text-align: right;\n",
       "    }\n",
       "</style>\n",
       "<table border=\"1\" class=\"dataframe\">\n",
       "  <thead>\n",
       "    <tr style=\"text-align: right;\">\n",
       "      <th></th>\n",
       "      <th>index</th>\n",
       "      <th>first</th>\n",
       "      <th>second</th>\n",
       "      <th>third</th>\n",
       "      <th>fourth</th>\n",
       "      <th>fifth</th>\n",
       "    </tr>\n",
       "  </thead>\n",
       "  <tbody>\n",
       "    <tr>\n",
       "      <th>0</th>\n",
       "      <td>one</td>\n",
       "      <td>0.053503</td>\n",
       "      <td>0.106235</td>\n",
       "      <td>0.915407</td>\n",
       "      <td>0.880849</td>\n",
       "      <td>0.246622</td>\n",
       "    </tr>\n",
       "    <tr>\n",
       "      <th>1</th>\n",
       "      <td>two</td>\n",
       "      <td>0.190750</td>\n",
       "      <td>0.828302</td>\n",
       "      <td>0.217411</td>\n",
       "      <td>0.468420</td>\n",
       "      <td>0.515375</td>\n",
       "    </tr>\n",
       "    <tr>\n",
       "      <th>2</th>\n",
       "      <td>three</td>\n",
       "      <td>0.993074</td>\n",
       "      <td>0.518722</td>\n",
       "      <td>0.626595</td>\n",
       "      <td>0.239213</td>\n",
       "      <td>0.869956</td>\n",
       "    </tr>\n",
       "    <tr>\n",
       "      <th>3</th>\n",
       "      <td>four</td>\n",
       "      <td>0.380941</td>\n",
       "      <td>0.427077</td>\n",
       "      <td>0.891345</td>\n",
       "      <td>0.781259</td>\n",
       "      <td>0.957811</td>\n",
       "    </tr>\n",
       "    <tr>\n",
       "      <th>4</th>\n",
       "      <td>five</td>\n",
       "      <td>0.282786</td>\n",
       "      <td>0.775472</td>\n",
       "      <td>0.969148</td>\n",
       "      <td>0.548966</td>\n",
       "      <td>0.203651</td>\n",
       "    </tr>\n",
       "  </tbody>\n",
       "</table>\n",
       "</div>"
      ],
      "text/plain": [
       "   index     first    second     third    fourth     fifth\n",
       "0    one  0.053503  0.106235  0.915407  0.880849  0.246622\n",
       "1    two  0.190750  0.828302  0.217411  0.468420  0.515375\n",
       "2  three  0.993074  0.518722  0.626595  0.239213  0.869956\n",
       "3   four  0.380941  0.427077  0.891345  0.781259  0.957811\n",
       "4   five  0.282786  0.775472  0.969148  0.548966  0.203651"
      ]
     },
     "execution_count": 120,
     "metadata": {},
     "output_type": "execute_result"
    }
   ],
   "source": [
    "df1.reset_index()"
   ]
  },
  {
   "cell_type": "code",
   "execution_count": 121,
   "id": "c781a8a1",
   "metadata": {},
   "outputs": [],
   "source": [
    "df1['fifth']=[10,20,30,40,50]"
   ]
  },
  {
   "cell_type": "code",
   "execution_count": 122,
   "id": "5772eef7",
   "metadata": {},
   "outputs": [
    {
     "data": {
      "text/html": [
       "<div>\n",
       "<style scoped>\n",
       "    .dataframe tbody tr th:only-of-type {\n",
       "        vertical-align: middle;\n",
       "    }\n",
       "\n",
       "    .dataframe tbody tr th {\n",
       "        vertical-align: top;\n",
       "    }\n",
       "\n",
       "    .dataframe thead th {\n",
       "        text-align: right;\n",
       "    }\n",
       "</style>\n",
       "<table border=\"1\" class=\"dataframe\">\n",
       "  <thead>\n",
       "    <tr style=\"text-align: right;\">\n",
       "      <th></th>\n",
       "      <th>first</th>\n",
       "      <th>second</th>\n",
       "      <th>third</th>\n",
       "      <th>fourth</th>\n",
       "      <th>fifth</th>\n",
       "    </tr>\n",
       "  </thead>\n",
       "  <tbody>\n",
       "    <tr>\n",
       "      <th>one</th>\n",
       "      <td>0.053503</td>\n",
       "      <td>0.106235</td>\n",
       "      <td>0.915407</td>\n",
       "      <td>0.880849</td>\n",
       "      <td>10</td>\n",
       "    </tr>\n",
       "    <tr>\n",
       "      <th>two</th>\n",
       "      <td>0.190750</td>\n",
       "      <td>0.828302</td>\n",
       "      <td>0.217411</td>\n",
       "      <td>0.468420</td>\n",
       "      <td>20</td>\n",
       "    </tr>\n",
       "    <tr>\n",
       "      <th>three</th>\n",
       "      <td>0.993074</td>\n",
       "      <td>0.518722</td>\n",
       "      <td>0.626595</td>\n",
       "      <td>0.239213</td>\n",
       "      <td>30</td>\n",
       "    </tr>\n",
       "    <tr>\n",
       "      <th>four</th>\n",
       "      <td>0.380941</td>\n",
       "      <td>0.427077</td>\n",
       "      <td>0.891345</td>\n",
       "      <td>0.781259</td>\n",
       "      <td>40</td>\n",
       "    </tr>\n",
       "    <tr>\n",
       "      <th>five</th>\n",
       "      <td>0.282786</td>\n",
       "      <td>0.775472</td>\n",
       "      <td>0.969148</td>\n",
       "      <td>0.548966</td>\n",
       "      <td>50</td>\n",
       "    </tr>\n",
       "  </tbody>\n",
       "</table>\n",
       "</div>"
      ],
      "text/plain": [
       "          first    second     third    fourth  fifth\n",
       "one    0.053503  0.106235  0.915407  0.880849     10\n",
       "two    0.190750  0.828302  0.217411  0.468420     20\n",
       "three  0.993074  0.518722  0.626595  0.239213     30\n",
       "four   0.380941  0.427077  0.891345  0.781259     40\n",
       "five   0.282786  0.775472  0.969148  0.548966     50"
      ]
     },
     "execution_count": 122,
     "metadata": {},
     "output_type": "execute_result"
    }
   ],
   "source": [
    "df1"
   ]
  },
  {
   "cell_type": "markdown",
   "id": "5815a48d",
   "metadata": {},
   "source": [
    "# Creating new dataframe"
   ]
  },
  {
   "cell_type": "code",
   "execution_count": 177,
   "id": "c1ee16ea",
   "metadata": {},
   "outputs": [],
   "source": [
    "new_df = pd.DataFrame({'name':['shivesh','mansi','baljeet','sana','nupur'],\n",
    "                      'age':[23,22,27,19,25],\n",
    "                      'last name':['mishra','kapoor','kaur','naseem','chawla'],\n",
    "                      'company':['QUESS','NISG','QUESS','NA','QUESS'],\n",
    "                      'level':[5,4,5,2,5]},index=[1,2,3,4,5])"
   ]
  },
  {
   "cell_type": "code",
   "execution_count": 178,
   "id": "256e28ed",
   "metadata": {},
   "outputs": [
    {
     "data": {
      "text/html": [
       "<div>\n",
       "<style scoped>\n",
       "    .dataframe tbody tr th:only-of-type {\n",
       "        vertical-align: middle;\n",
       "    }\n",
       "\n",
       "    .dataframe tbody tr th {\n",
       "        vertical-align: top;\n",
       "    }\n",
       "\n",
       "    .dataframe thead th {\n",
       "        text-align: right;\n",
       "    }\n",
       "</style>\n",
       "<table border=\"1\" class=\"dataframe\">\n",
       "  <thead>\n",
       "    <tr style=\"text-align: right;\">\n",
       "      <th></th>\n",
       "      <th>name</th>\n",
       "      <th>age</th>\n",
       "      <th>last name</th>\n",
       "      <th>company</th>\n",
       "      <th>level</th>\n",
       "    </tr>\n",
       "  </thead>\n",
       "  <tbody>\n",
       "    <tr>\n",
       "      <th>1</th>\n",
       "      <td>shivesh</td>\n",
       "      <td>23</td>\n",
       "      <td>mishra</td>\n",
       "      <td>QUESS</td>\n",
       "      <td>5</td>\n",
       "    </tr>\n",
       "    <tr>\n",
       "      <th>2</th>\n",
       "      <td>mansi</td>\n",
       "      <td>22</td>\n",
       "      <td>kapoor</td>\n",
       "      <td>NISG</td>\n",
       "      <td>4</td>\n",
       "    </tr>\n",
       "    <tr>\n",
       "      <th>3</th>\n",
       "      <td>baljeet</td>\n",
       "      <td>27</td>\n",
       "      <td>kaur</td>\n",
       "      <td>QUESS</td>\n",
       "      <td>5</td>\n",
       "    </tr>\n",
       "    <tr>\n",
       "      <th>4</th>\n",
       "      <td>sana</td>\n",
       "      <td>19</td>\n",
       "      <td>naseem</td>\n",
       "      <td>NA</td>\n",
       "      <td>2</td>\n",
       "    </tr>\n",
       "    <tr>\n",
       "      <th>5</th>\n",
       "      <td>nupur</td>\n",
       "      <td>25</td>\n",
       "      <td>chawla</td>\n",
       "      <td>QUESS</td>\n",
       "      <td>5</td>\n",
       "    </tr>\n",
       "  </tbody>\n",
       "</table>\n",
       "</div>"
      ],
      "text/plain": [
       "      name  age last name company  level\n",
       "1  shivesh   23    mishra   QUESS      5\n",
       "2    mansi   22    kapoor    NISG      4\n",
       "3  baljeet   27      kaur   QUESS      5\n",
       "4     sana   19    naseem      NA      2\n",
       "5    nupur   25    chawla   QUESS      5"
      ]
     },
     "execution_count": 178,
     "metadata": {},
     "output_type": "execute_result"
    }
   ],
   "source": [
    "new_df"
   ]
  },
  {
   "cell_type": "code",
   "execution_count": 179,
   "id": "31965d0c",
   "metadata": {},
   "outputs": [],
   "source": [
    "new_df1 = pd.DataFrame({'name':['shivesh','mansi','baljeet','sana','nupur'],\n",
    "                      'age':[12,13,14,15,16],\n",
    "                      'last name':['mishra','kapoor','kaur','naseem','chawla'],\n",
    "                      'company':['QUESS','NISG','QUESS','NA','QUESS'],\n",
    "                      'experience':[5,4,5,2,5]},index=[1,2,3,4,5])"
   ]
  },
  {
   "cell_type": "code",
   "execution_count": 180,
   "id": "332a05a2",
   "metadata": {},
   "outputs": [
    {
     "data": {
      "text/html": [
       "<div>\n",
       "<style scoped>\n",
       "    .dataframe tbody tr th:only-of-type {\n",
       "        vertical-align: middle;\n",
       "    }\n",
       "\n",
       "    .dataframe tbody tr th {\n",
       "        vertical-align: top;\n",
       "    }\n",
       "\n",
       "    .dataframe thead th {\n",
       "        text-align: right;\n",
       "    }\n",
       "</style>\n",
       "<table border=\"1\" class=\"dataframe\">\n",
       "  <thead>\n",
       "    <tr style=\"text-align: right;\">\n",
       "      <th></th>\n",
       "      <th>name</th>\n",
       "      <th>age</th>\n",
       "      <th>last name</th>\n",
       "      <th>company</th>\n",
       "      <th>experience</th>\n",
       "    </tr>\n",
       "  </thead>\n",
       "  <tbody>\n",
       "    <tr>\n",
       "      <th>1</th>\n",
       "      <td>shivesh</td>\n",
       "      <td>12</td>\n",
       "      <td>mishra</td>\n",
       "      <td>QUESS</td>\n",
       "      <td>5</td>\n",
       "    </tr>\n",
       "    <tr>\n",
       "      <th>2</th>\n",
       "      <td>mansi</td>\n",
       "      <td>13</td>\n",
       "      <td>kapoor</td>\n",
       "      <td>NISG</td>\n",
       "      <td>4</td>\n",
       "    </tr>\n",
       "    <tr>\n",
       "      <th>3</th>\n",
       "      <td>baljeet</td>\n",
       "      <td>14</td>\n",
       "      <td>kaur</td>\n",
       "      <td>QUESS</td>\n",
       "      <td>5</td>\n",
       "    </tr>\n",
       "    <tr>\n",
       "      <th>4</th>\n",
       "      <td>sana</td>\n",
       "      <td>15</td>\n",
       "      <td>naseem</td>\n",
       "      <td>NA</td>\n",
       "      <td>2</td>\n",
       "    </tr>\n",
       "    <tr>\n",
       "      <th>5</th>\n",
       "      <td>nupur</td>\n",
       "      <td>16</td>\n",
       "      <td>chawla</td>\n",
       "      <td>QUESS</td>\n",
       "      <td>5</td>\n",
       "    </tr>\n",
       "  </tbody>\n",
       "</table>\n",
       "</div>"
      ],
      "text/plain": [
       "      name  age last name company  experience\n",
       "1  shivesh   12    mishra   QUESS           5\n",
       "2    mansi   13    kapoor    NISG           4\n",
       "3  baljeet   14      kaur   QUESS           5\n",
       "4     sana   15    naseem      NA           2\n",
       "5    nupur   16    chawla   QUESS           5"
      ]
     },
     "execution_count": 180,
     "metadata": {},
     "output_type": "execute_result"
    }
   ],
   "source": [
    "new_df1"
   ]
  },
  {
   "cell_type": "code",
   "execution_count": 181,
   "id": "5cfc0e37",
   "metadata": {},
   "outputs": [
    {
     "data": {
      "text/html": [
       "<div>\n",
       "<style scoped>\n",
       "    .dataframe tbody tr th:only-of-type {\n",
       "        vertical-align: middle;\n",
       "    }\n",
       "\n",
       "    .dataframe tbody tr th {\n",
       "        vertical-align: top;\n",
       "    }\n",
       "\n",
       "    .dataframe thead th {\n",
       "        text-align: right;\n",
       "    }\n",
       "</style>\n",
       "<table border=\"1\" class=\"dataframe\">\n",
       "  <thead>\n",
       "    <tr style=\"text-align: right;\">\n",
       "      <th></th>\n",
       "      <th>age</th>\n",
       "      <th>company</th>\n",
       "      <th>experience</th>\n",
       "      <th>last name</th>\n",
       "      <th>level</th>\n",
       "      <th>name</th>\n",
       "    </tr>\n",
       "  </thead>\n",
       "  <tbody>\n",
       "    <tr>\n",
       "      <th>1</th>\n",
       "      <td>35</td>\n",
       "      <td>QUESSQUESS</td>\n",
       "      <td>NaN</td>\n",
       "      <td>mishramishra</td>\n",
       "      <td>NaN</td>\n",
       "      <td>shiveshshivesh</td>\n",
       "    </tr>\n",
       "    <tr>\n",
       "      <th>2</th>\n",
       "      <td>35</td>\n",
       "      <td>NISGNISG</td>\n",
       "      <td>NaN</td>\n",
       "      <td>kapoorkapoor</td>\n",
       "      <td>NaN</td>\n",
       "      <td>mansimansi</td>\n",
       "    </tr>\n",
       "    <tr>\n",
       "      <th>3</th>\n",
       "      <td>41</td>\n",
       "      <td>QUESSQUESS</td>\n",
       "      <td>NaN</td>\n",
       "      <td>kaurkaur</td>\n",
       "      <td>NaN</td>\n",
       "      <td>baljeetbaljeet</td>\n",
       "    </tr>\n",
       "    <tr>\n",
       "      <th>4</th>\n",
       "      <td>34</td>\n",
       "      <td>NANA</td>\n",
       "      <td>NaN</td>\n",
       "      <td>naseemnaseem</td>\n",
       "      <td>NaN</td>\n",
       "      <td>sanasana</td>\n",
       "    </tr>\n",
       "    <tr>\n",
       "      <th>5</th>\n",
       "      <td>41</td>\n",
       "      <td>QUESSQUESS</td>\n",
       "      <td>NaN</td>\n",
       "      <td>chawlachawla</td>\n",
       "      <td>NaN</td>\n",
       "      <td>nupurnupur</td>\n",
       "    </tr>\n",
       "  </tbody>\n",
       "</table>\n",
       "</div>"
      ],
      "text/plain": [
       "   age     company  experience     last name  level            name\n",
       "1   35  QUESSQUESS         NaN  mishramishra    NaN  shiveshshivesh\n",
       "2   35    NISGNISG         NaN  kapoorkapoor    NaN      mansimansi\n",
       "3   41  QUESSQUESS         NaN      kaurkaur    NaN  baljeetbaljeet\n",
       "4   34        NANA         NaN  naseemnaseem    NaN        sanasana\n",
       "5   41  QUESSQUESS         NaN  chawlachawla    NaN      nupurnupur"
      ]
     },
     "execution_count": 181,
     "metadata": {},
     "output_type": "execute_result"
    }
   ],
   "source": [
    "new_df1+new_df"
   ]
  },
  {
   "cell_type": "code",
   "execution_count": 182,
   "id": "666371ea",
   "metadata": {},
   "outputs": [
    {
     "data": {
      "text/html": [
       "<div>\n",
       "<style scoped>\n",
       "    .dataframe tbody tr th:only-of-type {\n",
       "        vertical-align: middle;\n",
       "    }\n",
       "\n",
       "    .dataframe tbody tr th {\n",
       "        vertical-align: top;\n",
       "    }\n",
       "\n",
       "    .dataframe thead th {\n",
       "        text-align: right;\n",
       "    }\n",
       "</style>\n",
       "<table border=\"1\" class=\"dataframe\">\n",
       "  <thead>\n",
       "    <tr style=\"text-align: right;\">\n",
       "      <th></th>\n",
       "      <th>age</th>\n",
       "      <th>company</th>\n",
       "      <th>experience</th>\n",
       "      <th>last name</th>\n",
       "      <th>level</th>\n",
       "      <th>name</th>\n",
       "    </tr>\n",
       "  </thead>\n",
       "  <tbody>\n",
       "    <tr>\n",
       "      <th>1</th>\n",
       "      <td>23</td>\n",
       "      <td>QUESS</td>\n",
       "      <td>NaN</td>\n",
       "      <td>mishra</td>\n",
       "      <td>5.0</td>\n",
       "      <td>shivesh</td>\n",
       "    </tr>\n",
       "    <tr>\n",
       "      <th>2</th>\n",
       "      <td>22</td>\n",
       "      <td>NISG</td>\n",
       "      <td>NaN</td>\n",
       "      <td>kapoor</td>\n",
       "      <td>4.0</td>\n",
       "      <td>mansi</td>\n",
       "    </tr>\n",
       "    <tr>\n",
       "      <th>3</th>\n",
       "      <td>27</td>\n",
       "      <td>QUESS</td>\n",
       "      <td>NaN</td>\n",
       "      <td>kaur</td>\n",
       "      <td>5.0</td>\n",
       "      <td>baljeet</td>\n",
       "    </tr>\n",
       "    <tr>\n",
       "      <th>4</th>\n",
       "      <td>19</td>\n",
       "      <td>NA</td>\n",
       "      <td>NaN</td>\n",
       "      <td>naseem</td>\n",
       "      <td>2.0</td>\n",
       "      <td>sana</td>\n",
       "    </tr>\n",
       "    <tr>\n",
       "      <th>5</th>\n",
       "      <td>25</td>\n",
       "      <td>QUESS</td>\n",
       "      <td>NaN</td>\n",
       "      <td>chawla</td>\n",
       "      <td>5.0</td>\n",
       "      <td>nupur</td>\n",
       "    </tr>\n",
       "    <tr>\n",
       "      <th>1</th>\n",
       "      <td>12</td>\n",
       "      <td>QUESS</td>\n",
       "      <td>5.0</td>\n",
       "      <td>mishra</td>\n",
       "      <td>NaN</td>\n",
       "      <td>shivesh</td>\n",
       "    </tr>\n",
       "    <tr>\n",
       "      <th>2</th>\n",
       "      <td>13</td>\n",
       "      <td>NISG</td>\n",
       "      <td>4.0</td>\n",
       "      <td>kapoor</td>\n",
       "      <td>NaN</td>\n",
       "      <td>mansi</td>\n",
       "    </tr>\n",
       "    <tr>\n",
       "      <th>3</th>\n",
       "      <td>14</td>\n",
       "      <td>QUESS</td>\n",
       "      <td>5.0</td>\n",
       "      <td>kaur</td>\n",
       "      <td>NaN</td>\n",
       "      <td>baljeet</td>\n",
       "    </tr>\n",
       "    <tr>\n",
       "      <th>4</th>\n",
       "      <td>15</td>\n",
       "      <td>NA</td>\n",
       "      <td>2.0</td>\n",
       "      <td>naseem</td>\n",
       "      <td>NaN</td>\n",
       "      <td>sana</td>\n",
       "    </tr>\n",
       "    <tr>\n",
       "      <th>5</th>\n",
       "      <td>16</td>\n",
       "      <td>QUESS</td>\n",
       "      <td>5.0</td>\n",
       "      <td>chawla</td>\n",
       "      <td>NaN</td>\n",
       "      <td>nupur</td>\n",
       "    </tr>\n",
       "  </tbody>\n",
       "</table>\n",
       "</div>"
      ],
      "text/plain": [
       "   age company  experience last name  level     name\n",
       "1   23   QUESS         NaN    mishra    5.0  shivesh\n",
       "2   22    NISG         NaN    kapoor    4.0    mansi\n",
       "3   27   QUESS         NaN      kaur    5.0  baljeet\n",
       "4   19      NA         NaN    naseem    2.0     sana\n",
       "5   25   QUESS         NaN    chawla    5.0    nupur\n",
       "1   12   QUESS         5.0    mishra    NaN  shivesh\n",
       "2   13    NISG         4.0    kapoor    NaN    mansi\n",
       "3   14   QUESS         5.0      kaur    NaN  baljeet\n",
       "4   15      NA         2.0    naseem    NaN     sana\n",
       "5   16   QUESS         5.0    chawla    NaN    nupur"
      ]
     },
     "execution_count": 182,
     "metadata": {},
     "output_type": "execute_result"
    }
   ],
   "source": [
    "pd.concat([new_df,new_df1],axis=0,sort=True)"
   ]
  },
  {
   "cell_type": "code",
   "execution_count": 188,
   "id": "fa206051",
   "metadata": {},
   "outputs": [
    {
     "data": {
      "text/html": [
       "<div>\n",
       "<style scoped>\n",
       "    .dataframe tbody tr th:only-of-type {\n",
       "        vertical-align: middle;\n",
       "    }\n",
       "\n",
       "    .dataframe tbody tr th {\n",
       "        vertical-align: top;\n",
       "    }\n",
       "\n",
       "    .dataframe thead th {\n",
       "        text-align: right;\n",
       "    }\n",
       "</style>\n",
       "<table border=\"1\" class=\"dataframe\">\n",
       "  <thead>\n",
       "    <tr style=\"text-align: right;\">\n",
       "      <th></th>\n",
       "      <th>name_x</th>\n",
       "      <th>age</th>\n",
       "      <th>last name_x</th>\n",
       "      <th>company_x</th>\n",
       "      <th>level</th>\n",
       "      <th>name_y</th>\n",
       "      <th>last name_y</th>\n",
       "      <th>company_y</th>\n",
       "      <th>experience</th>\n",
       "    </tr>\n",
       "  </thead>\n",
       "  <tbody>\n",
       "    <tr>\n",
       "      <th>0</th>\n",
       "      <td>NaN</td>\n",
       "      <td>12</td>\n",
       "      <td>NaN</td>\n",
       "      <td>NaN</td>\n",
       "      <td>NaN</td>\n",
       "      <td>shivesh</td>\n",
       "      <td>mishra</td>\n",
       "      <td>QUESS</td>\n",
       "      <td>5</td>\n",
       "    </tr>\n",
       "    <tr>\n",
       "      <th>1</th>\n",
       "      <td>NaN</td>\n",
       "      <td>13</td>\n",
       "      <td>NaN</td>\n",
       "      <td>NaN</td>\n",
       "      <td>NaN</td>\n",
       "      <td>mansi</td>\n",
       "      <td>kapoor</td>\n",
       "      <td>NISG</td>\n",
       "      <td>4</td>\n",
       "    </tr>\n",
       "    <tr>\n",
       "      <th>2</th>\n",
       "      <td>NaN</td>\n",
       "      <td>14</td>\n",
       "      <td>NaN</td>\n",
       "      <td>NaN</td>\n",
       "      <td>NaN</td>\n",
       "      <td>baljeet</td>\n",
       "      <td>kaur</td>\n",
       "      <td>QUESS</td>\n",
       "      <td>5</td>\n",
       "    </tr>\n",
       "    <tr>\n",
       "      <th>3</th>\n",
       "      <td>NaN</td>\n",
       "      <td>15</td>\n",
       "      <td>NaN</td>\n",
       "      <td>NaN</td>\n",
       "      <td>NaN</td>\n",
       "      <td>sana</td>\n",
       "      <td>naseem</td>\n",
       "      <td>NA</td>\n",
       "      <td>2</td>\n",
       "    </tr>\n",
       "    <tr>\n",
       "      <th>4</th>\n",
       "      <td>NaN</td>\n",
       "      <td>16</td>\n",
       "      <td>NaN</td>\n",
       "      <td>NaN</td>\n",
       "      <td>NaN</td>\n",
       "      <td>nupur</td>\n",
       "      <td>chawla</td>\n",
       "      <td>QUESS</td>\n",
       "      <td>5</td>\n",
       "    </tr>\n",
       "  </tbody>\n",
       "</table>\n",
       "</div>"
      ],
      "text/plain": [
       "  name_x  age last name_x company_x  level   name_y last name_y company_y  \\\n",
       "0    NaN   12         NaN       NaN    NaN  shivesh      mishra     QUESS   \n",
       "1    NaN   13         NaN       NaN    NaN    mansi      kapoor      NISG   \n",
       "2    NaN   14         NaN       NaN    NaN  baljeet        kaur     QUESS   \n",
       "3    NaN   15         NaN       NaN    NaN     sana      naseem        NA   \n",
       "4    NaN   16         NaN       NaN    NaN    nupur      chawla     QUESS   \n",
       "\n",
       "   experience  \n",
       "0           5  \n",
       "1           4  \n",
       "2           5  \n",
       "3           2  \n",
       "4           5  "
      ]
     },
     "execution_count": 188,
     "metadata": {},
     "output_type": "execute_result"
    }
   ],
   "source": [
    "pd.merge(new_df,new_df1,how='right',on='age')"
   ]
  },
  {
   "cell_type": "code",
   "execution_count": 191,
   "id": "13a24e45",
   "metadata": {},
   "outputs": [],
   "source": [
    "final = pd.merge(new_df,new_df1,how='outer',on='age')"
   ]
  },
  {
   "cell_type": "code",
   "execution_count": 192,
   "id": "3168af17",
   "metadata": {},
   "outputs": [
    {
     "data": {
      "text/html": [
       "<div>\n",
       "<style scoped>\n",
       "    .dataframe tbody tr th:only-of-type {\n",
       "        vertical-align: middle;\n",
       "    }\n",
       "\n",
       "    .dataframe tbody tr th {\n",
       "        vertical-align: top;\n",
       "    }\n",
       "\n",
       "    .dataframe thead th {\n",
       "        text-align: right;\n",
       "    }\n",
       "</style>\n",
       "<table border=\"1\" class=\"dataframe\">\n",
       "  <thead>\n",
       "    <tr style=\"text-align: right;\">\n",
       "      <th></th>\n",
       "      <th>name_x</th>\n",
       "      <th>age</th>\n",
       "      <th>last name_x</th>\n",
       "      <th>company_x</th>\n",
       "      <th>level</th>\n",
       "      <th>name_y</th>\n",
       "      <th>last name_y</th>\n",
       "      <th>company_y</th>\n",
       "      <th>experience</th>\n",
       "    </tr>\n",
       "  </thead>\n",
       "  <tbody>\n",
       "    <tr>\n",
       "      <th>0</th>\n",
       "      <td>shivesh</td>\n",
       "      <td>23</td>\n",
       "      <td>mishra</td>\n",
       "      <td>QUESS</td>\n",
       "      <td>5.0</td>\n",
       "      <td>NaN</td>\n",
       "      <td>NaN</td>\n",
       "      <td>NaN</td>\n",
       "      <td>NaN</td>\n",
       "    </tr>\n",
       "    <tr>\n",
       "      <th>1</th>\n",
       "      <td>mansi</td>\n",
       "      <td>22</td>\n",
       "      <td>kapoor</td>\n",
       "      <td>NISG</td>\n",
       "      <td>4.0</td>\n",
       "      <td>NaN</td>\n",
       "      <td>NaN</td>\n",
       "      <td>NaN</td>\n",
       "      <td>NaN</td>\n",
       "    </tr>\n",
       "    <tr>\n",
       "      <th>2</th>\n",
       "      <td>baljeet</td>\n",
       "      <td>27</td>\n",
       "      <td>kaur</td>\n",
       "      <td>QUESS</td>\n",
       "      <td>5.0</td>\n",
       "      <td>NaN</td>\n",
       "      <td>NaN</td>\n",
       "      <td>NaN</td>\n",
       "      <td>NaN</td>\n",
       "    </tr>\n",
       "    <tr>\n",
       "      <th>3</th>\n",
       "      <td>sana</td>\n",
       "      <td>19</td>\n",
       "      <td>naseem</td>\n",
       "      <td>NA</td>\n",
       "      <td>2.0</td>\n",
       "      <td>NaN</td>\n",
       "      <td>NaN</td>\n",
       "      <td>NaN</td>\n",
       "      <td>NaN</td>\n",
       "    </tr>\n",
       "    <tr>\n",
       "      <th>4</th>\n",
       "      <td>nupur</td>\n",
       "      <td>25</td>\n",
       "      <td>chawla</td>\n",
       "      <td>QUESS</td>\n",
       "      <td>5.0</td>\n",
       "      <td>NaN</td>\n",
       "      <td>NaN</td>\n",
       "      <td>NaN</td>\n",
       "      <td>NaN</td>\n",
       "    </tr>\n",
       "    <tr>\n",
       "      <th>5</th>\n",
       "      <td>NaN</td>\n",
       "      <td>12</td>\n",
       "      <td>NaN</td>\n",
       "      <td>NaN</td>\n",
       "      <td>NaN</td>\n",
       "      <td>shivesh</td>\n",
       "      <td>mishra</td>\n",
       "      <td>QUESS</td>\n",
       "      <td>5.0</td>\n",
       "    </tr>\n",
       "    <tr>\n",
       "      <th>6</th>\n",
       "      <td>NaN</td>\n",
       "      <td>13</td>\n",
       "      <td>NaN</td>\n",
       "      <td>NaN</td>\n",
       "      <td>NaN</td>\n",
       "      <td>mansi</td>\n",
       "      <td>kapoor</td>\n",
       "      <td>NISG</td>\n",
       "      <td>4.0</td>\n",
       "    </tr>\n",
       "    <tr>\n",
       "      <th>7</th>\n",
       "      <td>NaN</td>\n",
       "      <td>14</td>\n",
       "      <td>NaN</td>\n",
       "      <td>NaN</td>\n",
       "      <td>NaN</td>\n",
       "      <td>baljeet</td>\n",
       "      <td>kaur</td>\n",
       "      <td>QUESS</td>\n",
       "      <td>5.0</td>\n",
       "    </tr>\n",
       "    <tr>\n",
       "      <th>8</th>\n",
       "      <td>NaN</td>\n",
       "      <td>15</td>\n",
       "      <td>NaN</td>\n",
       "      <td>NaN</td>\n",
       "      <td>NaN</td>\n",
       "      <td>sana</td>\n",
       "      <td>naseem</td>\n",
       "      <td>NA</td>\n",
       "      <td>2.0</td>\n",
       "    </tr>\n",
       "    <tr>\n",
       "      <th>9</th>\n",
       "      <td>NaN</td>\n",
       "      <td>16</td>\n",
       "      <td>NaN</td>\n",
       "      <td>NaN</td>\n",
       "      <td>NaN</td>\n",
       "      <td>nupur</td>\n",
       "      <td>chawla</td>\n",
       "      <td>QUESS</td>\n",
       "      <td>5.0</td>\n",
       "    </tr>\n",
       "  </tbody>\n",
       "</table>\n",
       "</div>"
      ],
      "text/plain": [
       "    name_x  age last name_x company_x  level   name_y last name_y company_y  \\\n",
       "0  shivesh   23      mishra     QUESS    5.0      NaN         NaN       NaN   \n",
       "1    mansi   22      kapoor      NISG    4.0      NaN         NaN       NaN   \n",
       "2  baljeet   27        kaur     QUESS    5.0      NaN         NaN       NaN   \n",
       "3     sana   19      naseem        NA    2.0      NaN         NaN       NaN   \n",
       "4    nupur   25      chawla     QUESS    5.0      NaN         NaN       NaN   \n",
       "5      NaN   12         NaN       NaN    NaN  shivesh      mishra     QUESS   \n",
       "6      NaN   13         NaN       NaN    NaN    mansi      kapoor      NISG   \n",
       "7      NaN   14         NaN       NaN    NaN  baljeet        kaur     QUESS   \n",
       "8      NaN   15         NaN       NaN    NaN     sana      naseem        NA   \n",
       "9      NaN   16         NaN       NaN    NaN    nupur      chawla     QUESS   \n",
       "\n",
       "   experience  \n",
       "0         NaN  \n",
       "1         NaN  \n",
       "2         NaN  \n",
       "3         NaN  \n",
       "4         NaN  \n",
       "5         5.0  \n",
       "6         4.0  \n",
       "7         5.0  \n",
       "8         2.0  \n",
       "9         5.0  "
      ]
     },
     "execution_count": 192,
     "metadata": {},
     "output_type": "execute_result"
    }
   ],
   "source": [
    "final"
   ]
  },
  {
   "cell_type": "code",
   "execution_count": 195,
   "id": "849da7f6",
   "metadata": {},
   "outputs": [],
   "source": [
    "final.to_csv('final.csv',index=True)"
   ]
  },
  {
   "cell_type": "code",
   "execution_count": 196,
   "id": "78fd781d",
   "metadata": {},
   "outputs": [
    {
     "data": {
      "text/html": [
       "<div>\n",
       "<style scoped>\n",
       "    .dataframe tbody tr th:only-of-type {\n",
       "        vertical-align: middle;\n",
       "    }\n",
       "\n",
       "    .dataframe tbody tr th {\n",
       "        vertical-align: top;\n",
       "    }\n",
       "\n",
       "    .dataframe thead th {\n",
       "        text-align: right;\n",
       "    }\n",
       "</style>\n",
       "<table border=\"1\" class=\"dataframe\">\n",
       "  <thead>\n",
       "    <tr style=\"text-align: right;\">\n",
       "      <th></th>\n",
       "      <th>Unnamed: 0</th>\n",
       "      <th>name_x</th>\n",
       "      <th>age</th>\n",
       "      <th>last name_x</th>\n",
       "      <th>company_x</th>\n",
       "      <th>level</th>\n",
       "      <th>name_y</th>\n",
       "      <th>last name_y</th>\n",
       "      <th>company_y</th>\n",
       "      <th>experience</th>\n",
       "    </tr>\n",
       "  </thead>\n",
       "  <tbody>\n",
       "    <tr>\n",
       "      <th>0</th>\n",
       "      <td>0</td>\n",
       "      <td>shivesh</td>\n",
       "      <td>23</td>\n",
       "      <td>mishra</td>\n",
       "      <td>QUESS</td>\n",
       "      <td>5.0</td>\n",
       "      <td>NaN</td>\n",
       "      <td>NaN</td>\n",
       "      <td>NaN</td>\n",
       "      <td>NaN</td>\n",
       "    </tr>\n",
       "    <tr>\n",
       "      <th>1</th>\n",
       "      <td>1</td>\n",
       "      <td>mansi</td>\n",
       "      <td>22</td>\n",
       "      <td>kapoor</td>\n",
       "      <td>NISG</td>\n",
       "      <td>4.0</td>\n",
       "      <td>NaN</td>\n",
       "      <td>NaN</td>\n",
       "      <td>NaN</td>\n",
       "      <td>NaN</td>\n",
       "    </tr>\n",
       "    <tr>\n",
       "      <th>2</th>\n",
       "      <td>2</td>\n",
       "      <td>baljeet</td>\n",
       "      <td>27</td>\n",
       "      <td>kaur</td>\n",
       "      <td>QUESS</td>\n",
       "      <td>5.0</td>\n",
       "      <td>NaN</td>\n",
       "      <td>NaN</td>\n",
       "      <td>NaN</td>\n",
       "      <td>NaN</td>\n",
       "    </tr>\n",
       "    <tr>\n",
       "      <th>3</th>\n",
       "      <td>3</td>\n",
       "      <td>sana</td>\n",
       "      <td>19</td>\n",
       "      <td>naseem</td>\n",
       "      <td>NaN</td>\n",
       "      <td>2.0</td>\n",
       "      <td>NaN</td>\n",
       "      <td>NaN</td>\n",
       "      <td>NaN</td>\n",
       "      <td>NaN</td>\n",
       "    </tr>\n",
       "    <tr>\n",
       "      <th>4</th>\n",
       "      <td>4</td>\n",
       "      <td>nupur</td>\n",
       "      <td>25</td>\n",
       "      <td>chawla</td>\n",
       "      <td>QUESS</td>\n",
       "      <td>5.0</td>\n",
       "      <td>NaN</td>\n",
       "      <td>NaN</td>\n",
       "      <td>NaN</td>\n",
       "      <td>NaN</td>\n",
       "    </tr>\n",
       "    <tr>\n",
       "      <th>5</th>\n",
       "      <td>5</td>\n",
       "      <td>NaN</td>\n",
       "      <td>12</td>\n",
       "      <td>NaN</td>\n",
       "      <td>NaN</td>\n",
       "      <td>NaN</td>\n",
       "      <td>shivesh</td>\n",
       "      <td>mishra</td>\n",
       "      <td>QUESS</td>\n",
       "      <td>5.0</td>\n",
       "    </tr>\n",
       "    <tr>\n",
       "      <th>6</th>\n",
       "      <td>6</td>\n",
       "      <td>NaN</td>\n",
       "      <td>13</td>\n",
       "      <td>NaN</td>\n",
       "      <td>NaN</td>\n",
       "      <td>NaN</td>\n",
       "      <td>mansi</td>\n",
       "      <td>kapoor</td>\n",
       "      <td>NISG</td>\n",
       "      <td>4.0</td>\n",
       "    </tr>\n",
       "    <tr>\n",
       "      <th>7</th>\n",
       "      <td>7</td>\n",
       "      <td>NaN</td>\n",
       "      <td>14</td>\n",
       "      <td>NaN</td>\n",
       "      <td>NaN</td>\n",
       "      <td>NaN</td>\n",
       "      <td>baljeet</td>\n",
       "      <td>kaur</td>\n",
       "      <td>QUESS</td>\n",
       "      <td>5.0</td>\n",
       "    </tr>\n",
       "    <tr>\n",
       "      <th>8</th>\n",
       "      <td>8</td>\n",
       "      <td>NaN</td>\n",
       "      <td>15</td>\n",
       "      <td>NaN</td>\n",
       "      <td>NaN</td>\n",
       "      <td>NaN</td>\n",
       "      <td>sana</td>\n",
       "      <td>naseem</td>\n",
       "      <td>NaN</td>\n",
       "      <td>2.0</td>\n",
       "    </tr>\n",
       "    <tr>\n",
       "      <th>9</th>\n",
       "      <td>9</td>\n",
       "      <td>NaN</td>\n",
       "      <td>16</td>\n",
       "      <td>NaN</td>\n",
       "      <td>NaN</td>\n",
       "      <td>NaN</td>\n",
       "      <td>nupur</td>\n",
       "      <td>chawla</td>\n",
       "      <td>QUESS</td>\n",
       "      <td>5.0</td>\n",
       "    </tr>\n",
       "  </tbody>\n",
       "</table>\n",
       "</div>"
      ],
      "text/plain": [
       "   Unnamed: 0   name_x  age last name_x company_x  level   name_y last name_y  \\\n",
       "0           0  shivesh   23      mishra     QUESS    5.0      NaN         NaN   \n",
       "1           1    mansi   22      kapoor      NISG    4.0      NaN         NaN   \n",
       "2           2  baljeet   27        kaur     QUESS    5.0      NaN         NaN   \n",
       "3           3     sana   19      naseem       NaN    2.0      NaN         NaN   \n",
       "4           4    nupur   25      chawla     QUESS    5.0      NaN         NaN   \n",
       "5           5      NaN   12         NaN       NaN    NaN  shivesh      mishra   \n",
       "6           6      NaN   13         NaN       NaN    NaN    mansi      kapoor   \n",
       "7           7      NaN   14         NaN       NaN    NaN  baljeet        kaur   \n",
       "8           8      NaN   15         NaN       NaN    NaN     sana      naseem   \n",
       "9           9      NaN   16         NaN       NaN    NaN    nupur      chawla   \n",
       "\n",
       "  company_y  experience  \n",
       "0       NaN         NaN  \n",
       "1       NaN         NaN  \n",
       "2       NaN         NaN  \n",
       "3       NaN         NaN  \n",
       "4       NaN         NaN  \n",
       "5     QUESS         5.0  \n",
       "6      NISG         4.0  \n",
       "7     QUESS         5.0  \n",
       "8       NaN         2.0  \n",
       "9     QUESS         5.0  "
      ]
     },
     "execution_count": 196,
     "metadata": {},
     "output_type": "execute_result"
    }
   ],
   "source": [
    "pd.read_csv('final.csv')"
   ]
  },
  {
   "cell_type": "code",
   "execution_count": 199,
   "id": "94ccdde4",
   "metadata": {},
   "outputs": [
    {
     "data": {
      "text/plain": [
       "40"
      ]
     },
     "execution_count": 199,
     "metadata": {},
     "output_type": "execute_result"
    }
   ],
   "source": [
    "pd.isnull(final).sum().sum()"
   ]
  }
 ],
 "metadata": {
  "kernelspec": {
   "display_name": "Python 3 (ipykernel)",
   "language": "python",
   "name": "python3"
  },
  "language_info": {
   "codemirror_mode": {
    "name": "ipython",
    "version": 3
   },
   "file_extension": ".py",
   "mimetype": "text/x-python",
   "name": "python",
   "nbconvert_exporter": "python",
   "pygments_lexer": "ipython3",
   "version": "3.9.13"
  }
 },
 "nbformat": 4,
 "nbformat_minor": 5
}
